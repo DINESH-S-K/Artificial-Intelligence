{
  "nbformat": 4,
  "nbformat_minor": 0,
  "metadata": {
    "colab": {
      "name": "Neural Networks.ipynb",
      "provenance": [],
      "authorship_tag": "ABX9TyOp4O+W/hsqXfLWk96mq+C6",
      "include_colab_link": true
    },
    "kernelspec": {
      "name": "python3",
      "display_name": "Python 3"
    },
    "language_info": {
      "name": "python"
    }
  },
  "cells": [
    {
      "cell_type": "markdown",
      "metadata": {
        "id": "view-in-github",
        "colab_type": "text"
      },
      "source": [
        "<a href=\"https://colab.research.google.com/github/DINESH-S-K/Artificial-Intelligence/blob/main/Neural_Networks.ipynb\" target=\"_parent\"><img src=\"https://colab.research.google.com/assets/colab-badge.svg\" alt=\"Open In Colab\"/></a>"
      ]
    },
    {
      "cell_type": "code",
      "execution_count": 1,
      "metadata": {
        "id": "XdAd1tiVypH4"
      },
      "outputs": [],
      "source": [
        "inputs =[0.6,0.5,0.1]\n",
        "weights = [3.4,8.0,4.8]\n",
        "bias = 5"
      ]
    },
    {
      "cell_type": "code",
      "source": [
        "total = inputs[0]*weights[0] +inputs[1]*weights[1] + inputs[2]*weights[2]\n",
        "print(total) "
      ],
      "metadata": {
        "colab": {
          "base_uri": "https://localhost:8080/"
        },
        "id": "f4QtiponzEIn",
        "outputId": "ee8e9d34-575c-40dd-f1bd-f52116af1f6b"
      },
      "execution_count": 2,
      "outputs": [
        {
          "output_type": "stream",
          "name": "stdout",
          "text": [
            "6.52\n"
          ]
        }
      ]
    },
    {
      "cell_type": "code",
      "source": [
        "import math"
      ],
      "metadata": {
        "id": "2WZAVoZQzWV6"
      },
      "execution_count": 3,
      "outputs": []
    },
    {
      "cell_type": "code",
      "source": [
        "output = 1/(1+math.exp(total))"
      ],
      "metadata": {
        "id": "-a3JzRkD1MB-"
      },
      "execution_count": 6,
      "outputs": []
    },
    {
      "cell_type": "code",
      "source": [
        "print(output)"
      ],
      "metadata": {
        "colab": {
          "base_uri": "https://localhost:8080/"
        },
        "id": "cXcnamjj1afG",
        "outputId": "fd2d6fc1-df27-4347-9743-6e3984a52df9"
      },
      "execution_count": 7,
      "outputs": [
        {
          "output_type": "stream",
          "name": "stdout",
          "text": [
            "0.0014715005973895278\n"
          ]
        }
      ]
    },
    {
      "cell_type": "code",
      "source": [
        ""
      ],
      "metadata": {
        "id": "JN-VDfC31dtq"
      },
      "execution_count": null,
      "outputs": []
    }
  ]
}